{
  "nbformat": 4,
  "nbformat_minor": 0,
  "metadata": {
    "colab": {
      "provenance": [],
      "authorship_tag": "ABX9TyO1n+IbnMi1I25M+nc+moUt",
      "include_colab_link": true
    },
    "kernelspec": {
      "name": "ir",
      "display_name": "R"
    },
    "language_info": {
      "name": "R"
    }
  },
  "cells": [
    {
      "cell_type": "markdown",
      "metadata": {
        "id": "view-in-github",
        "colab_type": "text"
      },
      "source": [
        "<a href=\"https://colab.research.google.com/github/jay10440/academics/blob/main/Bayesian_Data_Analysis.ipynb\" target=\"_parent\"><img src=\"https://colab.research.google.com/assets/colab-badge.svg\" alt=\"Open In Colab\"/></a>"
      ]
    },
    {
      "cell_type": "markdown",
      "source": [
        "#Text: Gemlin\n",
        "Focus: Coding proficiency using Bayesian Statistical Methods\n"
      ],
      "metadata": {
        "id": "kmg5Y1jXH4xK"
      }
    },
    {
      "cell_type": "markdown",
      "source": [
        "#Chapter 1 Brief Notes and Coding Practices"
      ],
      "metadata": {
        "id": "tBQ5S2WKIA4m"
      }
    },
    {
      "cell_type": "markdown",
      "source": [
        "So, I'm given $\\theta=1 \\Rightarrow y\\sim\\mathcal{N}(1,\\sigma^2), \\theta=2 \\Rightarrow y\\sim \\mathcal{N}(2,\\sigma^2)$. I want to sketch this for $\\sigma=2$."
      ],
      "metadata": {
        "id": "ICaDsJj_U4r9"
      }
    },
    {
      "cell_type": "code",
      "execution_count": 1,
      "metadata": {
        "id": "bfGEk4BTHfPl"
      },
      "outputs": [],
      "source": [
        "#Defining some sequence for y:\n",
        "y<- seq(-10,10,.05)\n",
        "#These generate normal distributions over these values of theta.\n",
        "probdensity<-dnorm(y,mean=1,sd=2, log=FALSE) + dnorm(y, mean=2, sd=2, log=FALSE)"
      ]
    },
    {
      "cell_type": "code",
      "source": [
        "plot(y,probdensity)"
      ],
      "metadata": {
        "colab": {
          "base_uri": "https://localhost:8080/",
          "height": 437
        },
        "id": "C4LKo5jvWDji",
        "outputId": "a255ff40-3550-4f55-feaf-85137f078442"
      },
      "execution_count": 2,
      "outputs": [
        {
          "output_type": "display_data",
          "data": {
            "text/plain": [
              "plot without title"
            ],
            "image/png": "[encoded data removed]"
          },
          "metadata": {
            "image/png": {
              "width": 420,
              "height": 420
            }
          }
        }
      ]
    },
    {
      "cell_type": "markdown",
      "source": [
        "###Key Takeaway:\n",
        "The marginal probability is the probability regardless of the condition. It is defined as:\n",
        "$$p(Y_1=y_1)=p(y_1)=\\sum_{\\forall y_1} p(y_1,y_2) = \\sum_{\\forall y_2} p_1(y_1)p(y_2 | y_1)$$"
      ],
      "metadata": {
        "id": "jNQVG7aCWZVe"
      }
    },
    {
      "cell_type": "markdown",
      "source": [
        "Compute $Pr(\\theta=1|y=1)$ supposing $\\sigma=2$.\n",
        "\n",
        "First applying the conditional probabilities then running over to R for help LOL:\n",
        "\n",
        "$$P(\\theta | y ) = \\frac{p(\\theta, y)}{p(y)} = \\frac{p(\\theta) p(y | \\theta) }{p(y)}$$\n",
        "\n",
        "$$=\\frac{p(\\theta=1) p(y=1 | \\theta=1)}{p(\\theta=1)p(y=1|\\theta=1) + p(\\theta=2)p(y=1|\\theta=2)}$$\n",
        "\n",
        "\n",
        "$$=\\frac{.5 \\mathcal{N}(1,1,4)}{.5 \\mathcal{N}(1,1,4) + .5 \\mathcal{N}(1,2,4)}$$\n"
      ],
      "metadata": {
        "id": "oq2AHef3XAvB"
      }
    },
    {
      "cell_type": "code",
      "source": [
        "onepointtwo<- (.5*dnorm(1,1,2))/(.5*(dnorm(1,1,2)+dnorm(1,2,2)))"
      ],
      "metadata": {
        "id": "MjRAWUnqWJIg"
      },
      "execution_count": 6,
      "outputs": []
    },
    {
      "cell_type": "code",
      "source": [
        "onepointtwo"
      ],
      "metadata": {
        "colab": {
          "base_uri": "https://localhost:8080/",
          "height": 34
        },
        "id": "9IXKYKlHaYnz",
        "outputId": "f3730331-e584-46be-b5ca-473e003978e2"
      },
      "execution_count": 7,
      "outputs": [
        {
          "output_type": "display_data",
          "data": {
            "text/html": [
              "0.531209373373756"
            ],
            "text/markdown": "0.531209373373756",
            "text/latex": "0.531209373373756",
            "text/plain": [
              "[1] 0.5312094"
            ]
          },
          "metadata": {}
        }
      ]
    },
    {
      "cell_type": "markdown",
      "source": [
        "###Chapter 2: Brief Notes and Coding Practices\n",
        "\n",
        "From a Bernoulli trial $y_1, ... , y_n$ options as 0 and 1.\n",
        "Binomial pdf:\n",
        "$$ p(y|\\theta)=Bin(y|n,\\theta) = {n \\choose y} \\theta^n (1-\\theta)^{n-y}$$\n",
        "We say $p(y|\\theta) \\propto \\theta^n(1-\\theta)^{n-y}$. In fact, this is the unnormalized form of the beta distribution:\n",
        "\n",
        "$$\\theta | y \\sim Beta(y+1, n-y+1)$$\n",
        "\n",
        "Making posterior predictions:\n",
        "\n",
        "$$Pr(y^\\sim = 1 | y ) = \\int_0^1 Pr(y^\\sim = 1| \\theta, y)p(\\theta|y) d\\theta = ... = \\frac{y+1}{n+2}$$\n",
        "\n",
        "One of the main purposes of Bayesian statistics in general is to start with some prior information. From there, as we gain more knowledge, we update our priors. In other words we may start with some prior distribution, and applying Bayes we gain a posterior distribution. Here's an interesting bit I didn't realize:\n",
        "\n",
        "$$E(\\theta) = E(E(\\theta|y))$$\n",
        "$$var(\\theta) = E(var(\\theta|y)) + var(E(\\theta|y))$$\n",
        "\n",
        "The second, stated from the text, is saying \"the posterior variance is on average smaller than the prior variance\"."
      ],
      "metadata": {
        "id": "dCil65-EeEZf"
      }
    },
    {
      "cell_type": "code",
      "source": [],
      "metadata": {
        "id": "qVTkL8u2aeZR"
      },
      "execution_count": null,
      "outputs": []
    }
  ]
}