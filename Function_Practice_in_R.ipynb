{
  "nbformat": 4,
  "nbformat_minor": 0,
  "metadata": {
    "colab": {
      "provenance": [],
      "authorship_tag": "ABX9TyM9acdCUmjTu+C4cQkk5pQo",
      "include_colab_link": true
    },
    "kernelspec": {
      "name": "ir",
      "display_name": "R"
    },
    "language_info": {
      "name": "R"
    }
  },
  "cells": [
    {
      "cell_type": "markdown",
      "metadata": {
        "id": "view-in-github",
        "colab_type": "text"
      },
      "source": [
        "<a href=\"https://colab.research.google.com/github/jay10440/academics/blob/main/Function_Practice_in_R.ipynb\" target=\"_parent\"><img src=\"https://colab.research.google.com/assets/colab-badge.svg\" alt=\"Open In Colab\"/></a>"
      ]
    },
    {
      "cell_type": "markdown",
      "source": [
        "#Creating Beginner to Advanced Functions in R"
      ],
      "metadata": {
        "id": "Iz8P-xq97c5-"
      }
    },
    {
      "cell_type": "markdown",
      "source": [
        "This won't be the typical Textbook style tutorial. Instead we'll just work an ensemble of things. Starting from easy to harder, we'll get some good practice in with creating functions with R. Automation makes life easier after all..."
      ],
      "metadata": {
        "id": "lHuQMmOk7iP2"
      }
    },
    {
      "cell_type": "code",
      "execution_count": 1,
      "metadata": {
        "colab": {
          "base_uri": "https://localhost:8080/"
        },
        "id": "tzLB0ejH7cE7",
        "outputId": "6457daae-2803-4504-ca37-f7fe33d0270d"
      },
      "outputs": [
        {
          "output_type": "stream",
          "name": "stderr",
          "text": [
            "Installing packages into ‘/usr/local/lib/R/site-library’\n",
            "(as ‘lib’ is unspecified)\n",
            "\n",
            "Warning message:\n",
            "“packages ‘base’, ‘stats’ are base packages, and should not be updated”\n"
          ]
        }
      ],
      "source": [
        "#As always, starting with packages:\n",
        "install.packages(c(\"base\",\"stats\",\"ggplot2\",\"dplyr\",\"purrr\",\"stringr\",\"rlang\"\n",
        ",\"testthat\",\"magrittr\",\"pacman\"))"
      ]
    },
    {
      "cell_type": "code",
      "source": [
        "pacman::p_load(base,stats,ggplot2,dplyr,purrr,stringr,rlang,testthat,magrittr)"
      ],
      "metadata": {
        "id": "CdaM55np9aeY"
      },
      "execution_count": 2,
      "outputs": []
    },
    {
      "cell_type": "markdown",
      "source": [
        "#Beginner Functions"
      ],
      "metadata": {
        "id": "9Kf9PYAoE03S"
      }
    },
    {
      "cell_type": "markdown",
      "source": [
        "Starting on easy level. First, notation:\n",
        "\n",
        "`functionname <- function(argument1, argument2,... =default_value) {\n",
        "  inputs function stuff, the whole thing\n",
        "  return(result)\n",
        "}`\n",
        "\n",
        "Here, functionname is whatever you want to call it (we'll learn the hard way what's not allowed lol). Arguments are the variables (and if they have assigned numbers). You can generally put in as many as you like. Let's try with a few simple examples.\n"
      ],
      "metadata": {
        "id": "T_1sY-bD-JMh"
      }
    },
    {
      "cell_type": "code",
      "source": [
        "#Linear function\n",
        "linfunc<- function(x,m=10,b=11){\n",
        "  linfunc<- m*x+b\n",
        "  return(linfunc)\n",
        "}\n",
        "#trying a few examples:\n",
        "linfunc(3)\n",
        "linfunc(11)"
      ],
      "metadata": {
        "colab": {
          "base_uri": "https://localhost:8080/",
          "height": 52
        },
        "id": "3mFD_xs8-DSo",
        "outputId": "d918ad44-0e7b-4763-fd51-6718d85b2695"
      },
      "execution_count": 8,
      "outputs": [
        {
          "output_type": "display_data",
          "data": {
            "text/html": [
              "41"
            ],
            "text/markdown": "41",
            "text/latex": "41",
            "text/plain": [
              "[1] 41"
            ]
          },
          "metadata": {}
        },
        {
          "output_type": "display_data",
          "data": {
            "text/html": [
              "121"
            ],
            "text/markdown": "121",
            "text/latex": "121",
            "text/plain": [
              "[1] 121"
            ]
          },
          "metadata": {}
        }
      ]
    },
    {
      "cell_type": "code",
      "source": [
        "#Trying a fancy function:\n",
        "sine<- function(x,a=4){\n",
        "  sine<- sin(a*x)\n",
        "  return(sine)\n",
        "}\n",
        "sin(0)\n",
        "sin(pi)\n",
        "sin(pi/2)"
      ],
      "metadata": {
        "colab": {
          "base_uri": "https://localhost:8080/",
          "height": 69
        },
        "id": "9dkaU12I_wAf",
        "outputId": "86d27337-d84e-413a-bb15-59b5081144a3"
      },
      "execution_count": 9,
      "outputs": [
        {
          "output_type": "display_data",
          "data": {
            "text/html": [
              "0"
            ],
            "text/markdown": "0",
            "text/latex": "0",
            "text/plain": [
              "[1] 0"
            ]
          },
          "metadata": {}
        },
        {
          "output_type": "display_data",
          "data": {
            "text/html": [
              "1.22464679914735e-16"
            ],
            "text/markdown": "1.22464679914735e-16",
            "text/latex": "1.22464679914735e-16",
            "text/plain": [
              "[1] 1.224647e-16"
            ]
          },
          "metadata": {}
        },
        {
          "output_type": "display_data",
          "data": {
            "text/html": [
              "1"
            ],
            "text/markdown": "1",
            "text/latex": "1",
            "text/plain": [
              "[1] 1"
            ]
          },
          "metadata": {}
        }
      ]
    },
    {
      "cell_type": "markdown",
      "source": [
        "Here's a few practice problems.\n",
        "\n",
        "1. Create a function that cubes a number.\n",
        "2. Create a function that converts celcius to farenheit.\n",
        "3. Create a function that computes the area given radius.\n",
        "4. Create a function that takes the max of two real numbers.\n",
        "5. Creat a function that determines whether a number is even or not."
      ],
      "metadata": {
        "id": "cHgCZzw7B0VZ"
      }
    },
    {
      "cell_type": "code",
      "source": [
        "cuber<-function(x){c<-x^3\n",
        "return(result)}\n",
        "cuber(4)"
      ],
      "metadata": {
        "colab": {
          "base_uri": "https://localhost:8080/",
          "height": 34
        },
        "id": "ispYQwxn_-U4",
        "outputId": "027f5f57-af89-4967-815a-ca788ccf1327"
      },
      "execution_count": 13,
      "outputs": [
        {
          "output_type": "display_data",
          "data": {
            "text/html": [
              "64"
            ],
            "text/markdown": "64",
            "text/latex": "64",
            "text/plain": [
              "[1] 64"
            ]
          },
          "metadata": {}
        }
      ]
    },
    {
      "cell_type": "code",
      "source": [
        "Fahr<- function(Cel){\n",
        "  Fahr<- (9/5)*Cel+32\n",
        "  return(result)\n",
        "}\n",
        "Fahr(100)"
      ],
      "metadata": {
        "colab": {
          "base_uri": "https://localhost:8080/",
          "height": 34
        },
        "id": "GchLLkrvCR9B",
        "outputId": "e1498cb1-fa69-4de1-db5d-b40e81bc8dc6"
      },
      "execution_count": 16,
      "outputs": [
        {
          "output_type": "display_data",
          "data": {
            "text/html": [
              "212"
            ],
            "text/markdown": "212",
            "text/latex": "212",
            "text/plain": [
              "[1] 212"
            ]
          },
          "metadata": {}
        }
      ]
    },
    {
      "cell_type": "code",
      "source": [
        "Area<- function(r){\n",
        "  Area<- pi*r^2\n",
        "  return(result)\n",
        "}\n",
        "Area(4)"
      ],
      "metadata": {
        "colab": {
          "base_uri": "https://localhost:8080/",
          "height": 34
        },
        "id": "UShh91RfDdVx",
        "outputId": "b6b4169f-9125-4593-81a0-a4602b0c3b03"
      },
      "execution_count": 17,
      "outputs": [
        {
          "output_type": "display_data",
          "data": {
            "text/html": [
              "50.2654824574367"
            ],
            "text/markdown": "50.2654824574367",
            "text/latex": "50.2654824574367",
            "text/plain": [
              "[1] 50.26548"
            ]
          },
          "metadata": {}
        }
      ]
    },
    {
      "cell_type": "code",
      "source": [
        "Maxfunction<- function(x,y){\n",
        "  maxfunction<- max(x,y)\n",
        "  return(result)\n",
        "}\n",
        "Maxfunction(-11,22)"
      ],
      "metadata": {
        "colab": {
          "base_uri": "https://localhost:8080/",
          "height": 34
        },
        "id": "i1cC_66vDrSJ",
        "outputId": "fbe3877b-fc65-4d8b-b0bd-332d40889f0a"
      },
      "execution_count": 18,
      "outputs": [
        {
          "output_type": "display_data",
          "data": {
            "text/html": [
              "22"
            ],
            "text/markdown": "22",
            "text/latex": "22",
            "text/plain": [
              "[1] 22"
            ]
          },
          "metadata": {}
        }
      ]
    },
    {
      "cell_type": "code",
      "source": [
        "isiteven<- function(x){\n",
        "  isiteven<- x %% 2\n",
        "  return(result)\n",
        "}\n",
        "isiteven(13)"
      ],
      "metadata": {
        "colab": {
          "base_uri": "https://localhost:8080/",
          "height": 34
        },
        "id": "Jznj6X7BD2wx",
        "outputId": "cba0cf30-0378-41d2-f1f0-644b07a53401"
      },
      "execution_count": 19,
      "outputs": [
        {
          "output_type": "display_data",
          "data": {
            "text/html": [
              "1"
            ],
            "text/markdown": "1",
            "text/latex": "1",
            "text/plain": [
              "[1] 1"
            ]
          },
          "metadata": {}
        }
      ]
    },
    {
      "cell_type": "markdown",
      "source": [
        "#Intermediate Functions"
      ],
      "metadata": {
        "id": "tZd2djD2ExNq"
      }
    },
    {
      "cell_type": "markdown",
      "source": [
        "We'll introduce if-else and for loops. Here are some basic examples:"
      ],
      "metadata": {
        "id": "sGq9uhp_Fet6"
      }
    },
    {
      "cell_type": "code",
      "source": [
        "#Is the number positive or negative?\n",
        "bin_number <- function(x){\n",
        "  if (x<0) { return(\"negative\")}\n",
        "  else if (x==0) {return(\"zero\")}\n",
        "  else {return(\"positive\")}\n",
        "}\n",
        "bin_number(11)\n",
        "bin_number(0)\n",
        "bin_number(-44)"
      ],
      "metadata": {
        "colab": {
          "base_uri": "https://localhost:8080/",
          "height": 69
        },
        "id": "8OwCSuVDEHbB",
        "outputId": "78d2fbd1-070f-4788-c3a5-5615529e67ed"
      },
      "execution_count": 24,
      "outputs": [
        {
          "output_type": "display_data",
          "data": {
            "text/html": [
              "'positive'"
            ],
            "text/markdown": "'positive'",
            "text/latex": "'positive'",
            "text/plain": [
              "[1] \"positive\""
            ]
          },
          "metadata": {}
        },
        {
          "output_type": "display_data",
          "data": {
            "text/html": [
              "'zero'"
            ],
            "text/markdown": "'zero'",
            "text/latex": "'zero'",
            "text/plain": [
              "[1] \"zero\""
            ]
          },
          "metadata": {}
        },
        {
          "output_type": "display_data",
          "data": {
            "text/html": [
              "'negative'"
            ],
            "text/markdown": "'negative'",
            "text/latex": "'negative'",
            "text/plain": [
              "[1] \"negative\""
            ]
          },
          "metadata": {}
        }
      ]
    },
    {
      "cell_type": "markdown",
      "source": [
        "Important note about the loops: We have to start with a base value, else the code will act a fool lol. It's just how we do it in calc 2 and wherever else."
      ],
      "metadata": {
        "id": "b-uUpbIhGZvL"
      }
    },
    {
      "cell_type": "markdown",
      "source": [
        "Creating:\n",
        "$$\\sum_{i=1}^n i=1+2+...+n$$"
      ],
      "metadata": {
        "id": "Wv0K7zvoHMBe"
      }
    },
    {
      "cell_type": "code",
      "source": [
        "#Basic Summation in n terms\n",
        "sum_n <- function(n){\n",
        "  total<-0 #Starting value\n",
        "  for (i in 1:n) { #Opening the loop, looping from 1 to n\n",
        "    total <- total + i #Sum each number starting with the total\n",
        "  }\n",
        "  return(total)\n",
        "}\n",
        "sum_n(3)\n",
        "sum_n(30)"
      ],
      "metadata": {
        "colab": {
          "base_uri": "https://localhost:8080/",
          "height": 52
        },
        "id": "aDo7bFU4GBq6",
        "outputId": "48e3a2fa-6479-4bb6-b09d-bd1047090ea4"
      },
      "execution_count": 28,
      "outputs": [
        {
          "output_type": "display_data",
          "data": {
            "text/html": [
              "6"
            ],
            "text/markdown": "6",
            "text/latex": "6",
            "text/plain": [
              "[1] 6"
            ]
          },
          "metadata": {}
        },
        {
          "output_type": "display_data",
          "data": {
            "text/html": [
              "465"
            ],
            "text/markdown": "465",
            "text/latex": "465",
            "text/plain": [
              "[1] 465"
            ]
          },
          "metadata": {}
        }
      ]
    },
    {
      "cell_type": "markdown",
      "source": [
        "We won't forget there's a few ways to create vectors.\n",
        "\n",
        "`1:5` creates a vector from 1 to 5.\n",
        "`c(1,2,4,8)` This creates a customized vector\n",
        "\n",
        "etc."
      ],
      "metadata": {
        "id": "3sHUiCREIc1s"
      }
    },
    {
      "cell_type": "code",
      "source": [
        "#Messing with vectors, a big deal:\n",
        "cube_vector <- function(vec) {\n",
        "  return(sapply(vec,cuber))\n",
        "}\n",
        "cube_vector(c(1,4,3,2))\n",
        "cube_vector(1:5)"
      ],
      "metadata": {
        "colab": {
          "base_uri": "https://localhost:8080/",
          "height": 52
        },
        "id": "DNCCukAoGwJa",
        "outputId": "153224b2-8fa7-414a-f473-ef00f1cc03fa"
      },
      "execution_count": 30,
      "outputs": [
        {
          "output_type": "display_data",
          "data": {
            "text/html": [
              "<style>\n",
              ".list-inline {list-style: none; margin:0; padding: 0}\n",
              ".list-inline>li {display: inline-block}\n",
              ".list-inline>li:not(:last-child)::after {content: \"\\00b7\"; padding: 0 .5ex}\n",
              "</style>\n",
              "<ol class=list-inline><li>1</li><li>64</li><li>27</li><li>8</li></ol>\n"
            ],
            "text/markdown": "1. 1\n2. 64\n3. 27\n4. 8\n\n\n",
            "text/latex": "\\begin{enumerate*}\n\\item 1\n\\item 64\n\\item 27\n\\item 8\n\\end{enumerate*}\n",
            "text/plain": [
              "[1]  1 64 27  8"
            ]
          },
          "metadata": {}
        },
        {
          "output_type": "display_data",
          "data": {
            "text/html": [
              "<style>\n",
              ".list-inline {list-style: none; margin:0; padding: 0}\n",
              ".list-inline>li {display: inline-block}\n",
              ".list-inline>li:not(:last-child)::after {content: \"\\00b7\"; padding: 0 .5ex}\n",
              "</style>\n",
              "<ol class=list-inline><li>1</li><li>8</li><li>27</li><li>64</li><li>125</li></ol>\n"
            ],
            "text/markdown": "1. 1\n2. 8\n3. 27\n4. 64\n5. 125\n\n\n",
            "text/latex": "\\begin{enumerate*}\n\\item 1\n\\item 8\n\\item 27\n\\item 64\n\\item 125\n\\end{enumerate*}\n",
            "text/plain": [
              "[1]   1   8  27  64 125"
            ]
          },
          "metadata": {}
        }
      ]
    },
    {
      "cell_type": "markdown",
      "source": [
        "Note about the sapply function: It takes a data frame, vector, list as inputs and you apply the function you care about to it:\n",
        "`sapply(vec, functionyoucareabout)`\n",
        "and it will output the changes according to what you want the function to do with it. Above, I defined cuber to cube the values of what I put in it, so I figured this would be a nice thing to do here."
      ],
      "metadata": {
        "id": "os6CONxgKQzZ"
      }
    },
    {
      "cell_type": "code",
      "source": [
        "#Trying with a data frame, we'll find the mean of specific objects.\n",
        "#mtcars is in one of these packages, we'll use that and find the mean:\n",
        "column_means<- function(dataframe){\n",
        "  return(sapply(dataframe,mean))\n",
        "}\n",
        "column_means(mtcars)"
      ],
      "metadata": {
        "colab": {
          "base_uri": "https://localhost:8080/",
          "height": 52
        },
        "id": "gXQp10qfKFHV",
        "outputId": "a12e508c-dd2b-4dca-9771-d6e21a00583f"
      },
      "execution_count": 33,
      "outputs": [
        {
          "output_type": "display_data",
          "data": {
            "text/html": [
              "<style>\n",
              ".dl-inline {width: auto; margin:0; padding: 0}\n",
              ".dl-inline>dt, .dl-inline>dd {float: none; width: auto; display: inline-block}\n",
              ".dl-inline>dt::after {content: \":\\0020\"; padding-right: .5ex}\n",
              ".dl-inline>dt:not(:first-of-type) {padding-left: .5ex}\n",
              "</style><dl class=dl-inline><dt>mpg</dt><dd>20.090625</dd><dt>cyl</dt><dd>6.1875</dd><dt>disp</dt><dd>230.721875</dd><dt>hp</dt><dd>146.6875</dd><dt>drat</dt><dd>3.5965625</dd><dt>wt</dt><dd>3.21725</dd><dt>qsec</dt><dd>17.84875</dd><dt>vs</dt><dd>0.4375</dd><dt>am</dt><dd>0.40625</dd><dt>gear</dt><dd>3.6875</dd><dt>carb</dt><dd>2.8125</dd></dl>\n"
            ],
            "text/markdown": "mpg\n:   20.090625cyl\n:   6.1875disp\n:   230.721875hp\n:   146.6875drat\n:   3.5965625wt\n:   3.21725qsec\n:   17.84875vs\n:   0.4375am\n:   0.40625gear\n:   3.6875carb\n:   2.8125\n\n",
            "text/latex": "\\begin{description*}\n\\item[mpg] 20.090625\n\\item[cyl] 6.1875\n\\item[disp] 230.721875\n\\item[hp] 146.6875\n\\item[drat] 3.5965625\n\\item[wt] 3.21725\n\\item[qsec] 17.84875\n\\item[vs] 0.4375\n\\item[am] 0.40625\n\\item[gear] 3.6875\n\\item[carb] 2.8125\n\\end{description*}\n",
            "text/plain": [
              "       mpg        cyl       disp         hp       drat         wt       qsec \n",
              " 20.090625   6.187500 230.721875 146.687500   3.596563   3.217250  17.848750 \n",
              "        vs         am       gear       carb \n",
              "  0.437500   0.406250   3.687500   2.812500 "
            ]
          },
          "metadata": {}
        }
      ]
    },
    {
      "cell_type": "markdown",
      "source": [
        "Time for Practice.\n",
        "\n",
        "1. Find the absolute difference between two numbers.\n",
        "2. Create a factorial function.\n",
        "3. Convert a vector of temperatures from C to F.\n",
        "4. Find the maximum element of a vector.\n",
        "5. Count how many values are in a vector that are even."
      ],
      "metadata": {
        "id": "6tNl5yxNLS_-"
      }
    },
    {
      "cell_type": "code",
      "source": [
        "#Absolute difference: |a-b|\n",
        "abdiff<- function(a,b){\n",
        "  abdiff <- abs(a-b)\n",
        "  return(abdiff)\n",
        "}\n",
        "abdiff(11,-34)"
      ],
      "metadata": {
        "colab": {
          "base_uri": "https://localhost:8080/",
          "height": 34
        },
        "id": "Pgya6M5bKzUe",
        "outputId": "c88c8527-3ee4-41c6-ac83-b7e40e40a0c2"
      },
      "execution_count": 37,
      "outputs": [
        {
          "output_type": "display_data",
          "data": {
            "text/html": [
              "45"
            ],
            "text/markdown": "45",
            "text/latex": "45",
            "text/plain": [
              "[1] 45"
            ]
          },
          "metadata": {}
        }
      ]
    },
    {
      "cell_type": "code",
      "source": [
        "#Factorial: n!=n*(n-1)(n-2)...3*2*1\n",
        "nfact <- function(n){\n",
        "  if (n < 0){ return(\"not possible\")}\n",
        "  else if (n == 0){ return(\"0! is 1.\")}\n",
        "  else {\n",
        "    fact<-1\n",
        "    for(i in 1:n){\n",
        "      fact <- fact*i}\n",
        "      return(fact)\n",
        "      }\n",
        "}\n",
        "nfact(0)\n",
        "nfact(-14)\n",
        "nfact(3)"
      ],
      "metadata": {
        "colab": {
          "base_uri": "https://localhost:8080/",
          "height": 69
        },
        "id": "8asE5uANL1EX",
        "outputId": "c4c5c9eb-faa6-4c6f-acdb-9276082abc8e"
      },
      "execution_count": 64,
      "outputs": [
        {
          "output_type": "display_data",
          "data": {
            "text/html": [
              "'0! is 1.'"
            ],
            "text/markdown": "'0! is 1.'",
            "text/latex": "'0! is 1.'",
            "text/plain": [
              "[1] \"0! is 1.\""
            ]
          },
          "metadata": {}
        },
        {
          "output_type": "display_data",
          "data": {
            "text/html": [
              "'not possible'"
            ],
            "text/markdown": "'not possible'",
            "text/latex": "'not possible'",
            "text/plain": [
              "[1] \"not possible\""
            ]
          },
          "metadata": {}
        },
        {
          "output_type": "display_data",
          "data": {
            "text/html": [
              "6"
            ],
            "text/markdown": "6",
            "text/latex": "6",
            "text/plain": [
              "[1] 6"
            ]
          },
          "metadata": {}
        }
      ]
    },
    {
      "cell_type": "code",
      "source": [
        "#Converting temps Fahr to Cel:\n",
        "celtofahr<- function(vec){\n",
        "  return(sapply(vec, Fahr))\n",
        "}\n",
        "celtofahr(1:5)"
      ],
      "metadata": {
        "colab": {
          "base_uri": "https://localhost:8080/",
          "height": 34
        },
        "id": "IyjW5TRHNunn",
        "outputId": "955fb994-63f9-4029-ab2f-1194465653e6"
      },
      "execution_count": 65,
      "outputs": [
        {
          "output_type": "display_data",
          "data": {
            "text/html": [
              "<style>\n",
              ".list-inline {list-style: none; margin:0; padding: 0}\n",
              ".list-inline>li {display: inline-block}\n",
              ".list-inline>li:not(:last-child)::after {content: \"\\00b7\"; padding: 0 .5ex}\n",
              "</style>\n",
              "<ol class=list-inline><li>33.8</li><li>35.6</li><li>37.4</li><li>39.2</li><li>41</li></ol>\n"
            ],
            "text/markdown": "1. 33.8\n2. 35.6\n3. 37.4\n4. 39.2\n5. 41\n\n\n",
            "text/latex": "\\begin{enumerate*}\n\\item 33.8\n\\item 35.6\n\\item 37.4\n\\item 39.2\n\\item 41\n\\end{enumerate*}\n",
            "text/plain": [
              "[1] 33.8 35.6 37.4 39.2 41.0"
            ]
          },
          "metadata": {}
        }
      ]
    },
    {
      "cell_type": "code",
      "source": [
        "#Finding the Maximum Element in a Vector:\n",
        "vecmax<- function(vec){\n",
        "  return(max(vec))\n",
        "}\n",
        "vecmax(1:10)"
      ],
      "metadata": {
        "colab": {
          "base_uri": "https://localhost:8080/",
          "height": 34
        },
        "id": "u3NgcRxwTKdR",
        "outputId": "85f50996-174d-45c8-8fe5-443288284c4e"
      },
      "execution_count": 68,
      "outputs": [
        {
          "output_type": "display_data",
          "data": {
            "text/html": [
              "10"
            ],
            "text/markdown": "10",
            "text/latex": "10",
            "text/plain": [
              "[1] 10"
            ]
          },
          "metadata": {}
        }
      ]
    },
    {
      "cell_type": "code",
      "source": [
        "#Counting how many values in a vector are even\n",
        "even_vec<- function(vec){\n",
        "  count<-0\n",
        "  for(i in vec){\n",
        "    if (i %% 2 == 0){count<- count+1}\n",
        "  }\n",
        "  return(count)\n",
        "}\n",
        "even_vec(1:5)\n",
        "even_vec(c(11,20,10,5,4,4,18))"
      ],
      "metadata": {
        "colab": {
          "base_uri": "https://localhost:8080/",
          "height": 52
        },
        "id": "cyQAbTV2TXZp",
        "outputId": "1ee3923d-6a2f-4cee-d433-9065e2f84334"
      },
      "execution_count": 74,
      "outputs": [
        {
          "output_type": "display_data",
          "data": {
            "text/html": [
              "2"
            ],
            "text/markdown": "2",
            "text/latex": "2",
            "text/plain": [
              "[1] 2"
            ]
          },
          "metadata": {}
        },
        {
          "output_type": "display_data",
          "data": {
            "text/html": [
              "5"
            ],
            "text/markdown": "5",
            "text/latex": "5",
            "text/plain": [
              "[1] 5"
            ]
          },
          "metadata": {}
        }
      ]
    },
    {
      "cell_type": "code",
      "source": [],
      "metadata": {
        "id": "6pb0EE4RUfCv"
      },
      "execution_count": null,
      "outputs": []
    }
  ]
}