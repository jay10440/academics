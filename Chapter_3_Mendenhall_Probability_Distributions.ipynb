{
  "nbformat": 4,
  "nbformat_minor": 0,
  "metadata": {
    "colab": {
      "provenance": [],
      "authorship_tag": "ABX9TyO8d5QutBIa0Al/EtHtlS4g",
      "include_colab_link": true
    },
    "kernelspec": {
      "name": "python3",
      "display_name": "Python 3"
    },
    "language_info": {
      "name": "python"
    }
  },
  "cells": [
    {
      "cell_type": "markdown",
      "metadata": {
        "id": "view-in-github",
        "colab_type": "text"
      },
      "source": [
        "<a href=\"https://colab.research.google.com/github/jay10440/academics/blob/main/Chapter_3_Mendenhall_Probability_Distributions.ipynb\" target=\"_parent\"><img src=\"https://colab.research.google.com/assets/colab-badge.svg\" alt=\"Open In Colab\"/></a>"
      ]
    },
    {
      "cell_type": "markdown",
      "source": [
        "# The Expected Value of a Random Variable"
      ],
      "metadata": {
        "id": "kKflNv4bsU2U"
      }
    },
    {
      "cell_type": "code",
      "execution_count": 1,
      "metadata": {
        "id": "oXbtVFwjsMMp"
      },
      "outputs": [],
      "source": [
        "#We'll go ahead and start loading packages, mainly for use of analysis.\n",
        "import numpy as np\n",
        "import matplotlib.pyplot as plt\n",
        "import seaborn as sns\n",
        "from scipy.stats import binom, uniform, norm, poisson\n",
        "\n",
        "%matplotlib inline\n",
        "sns.set(style='whitegrid')"
      ]
    },
    {
      "cell_type": "markdown",
      "source": [
        "Starting with some basic definitions:\n",
        "\n",
        "Definition: Let $Y$ be a discrete random variable with the probability function $p(y)$. Then the **expected value** of $Y$, $E(y)$, is defind to be:\n",
        "\n",
        "$$E(Y)=\\sum_y y p(y)$$\n",
        "\n",
        "If $p(y)$ is an accurate characterization of the population frequency distribution, then $E(y)=\\mu$."
      ],
      "metadata": {
        "id": "fMf8mGFkttvO"
      }
    },
    {
      "cell_type": "markdown",
      "source": [
        "Say we have the table where $y=(0, 1, 2)$ and $p(y)= 1/4, 1/2, 1/4$. The expected value can be computed this way:\n",
        "\n",
        "$$E(Y)=0(1/4) + 1(1/2) + 2(1/4)$$"
      ],
      "metadata": {
        "id": "ox63jroduZHJ"
      }
    },
    {
      "cell_type": "code",
      "source": [
        "0*.25 + 1*.5 + 2*.25"
      ],
      "metadata": {
        "colab": {
          "base_uri": "https://localhost:8080/"
        },
        "id": "vBjbMNVvtcs6",
        "outputId": "b881c579-40df-4e18-a131-f9c20a0277ed"
      },
      "execution_count": 2,
      "outputs": [
        {
          "output_type": "execute_result",
          "data": {
            "text/plain": [
              "1.0"
            ]
          },
          "metadata": {},
          "execution_count": 2
        }
      ]
    },
    {
      "cell_type": "markdown",
      "source": [
        "Theorem: Let $Y$ be a discrete random variable with probability function $p(y)$ and $g(Y)$ be a real-valued function of $Y$. Then the expected value of $g(Y)$ is:\n",
        "$$ E[g(Y)]=\\sum_{\\forall y} g(y) p(y)$$.\n",
        "\n",
        "See the proof in the book."
      ],
      "metadata": {
        "id": "wO_OPw4QvQuG"
      }
    },
    {
      "cell_type": "markdown",
      "source": [
        "Definition: IF $Y$ is a random variable with mean $E(Y)=\\mu$, the variance of a random variable $Y$ is defined to be the expected value of $(Y-\\mu)^2$. That is:\n",
        "$$V(Y)= E[(Y-\\mu)^2]$$.\n",
        "\n",
        "The standard deviation follows.\n",
        "\n",
        "Here's a brief example. Say we have the list $y=0,1,2,3$ and $p(y)=1/8, 1/4, 3/8, 1/4$. Let's calculate the expected value, variance and standard deviation."
      ],
      "metadata": {
        "id": "089swU5xwOzY"
      }
    },
    {
      "cell_type": "code",
      "source": [
        "#First, we define the lists as shown.\n",
        "y_val1=[0,1,2,3]\n",
        "pyval1=[1/8, 1/4, 3/8, 1/4]\n",
        "#Turn them into arrays so we can multiply and sum them.\n",
        "y=np.array(y_val1)\n",
        "p=np.array(pyval1)\n",
        "#Apply the expected value equation.\n",
        "sum(y*p)"
      ],
      "metadata": {
        "colab": {
          "base_uri": "https://localhost:8080/"
        },
        "id": "E76CRMM5u_Kg",
        "outputId": "11968aae-69ad-4c3a-b4ba-dd5ab38dfcea"
      },
      "execution_count": 7,
      "outputs": [
        {
          "output_type": "execute_result",
          "data": {
            "text/plain": [
              "np.float64(1.75)"
            ]
          },
          "metadata": {},
          "execution_count": 7
        }
      ]
    },
    {
      "cell_type": "markdown",
      "source": [
        "From our definition above, we can apply the expected value using the following:\n",
        "\n",
        "$$E[(Y-\\mu)^2]=\\sum_y=0^3 (y-\\mu)^2p(y)$$. Before continuing, to make things computationally easy, we introduce a theorem:\n",
        "\n",
        "Combination Theorem: Let $Y$ be a discrete random variable with probability function. The following are true:\n",
        "\n",
        "$E[c(g(Y))]= cE[g(Y)]$.\n",
        "\n",
        "$E[g_1(Y) + g_2(Y)+...+g_k(Y)]=E[g_1(Y)]+E[g_2(Y)]+...+E[g_k(Y)]$.\n",
        "\n",
        "Important:\n",
        "For $V(Y)=\\sigma^2$, $E[(Y-\\mu)^2]=E(Y^2)-\\mu^2$.\n",
        "\n",
        "Proof:\n",
        "\n",
        "$E[(Y-\\mu)^2]=E[Y^2-2Y\\mu+\\mu^2]=E[Y^2]-2E[Y]\\mu + E[\\mu^2]$.\n",
        "\n",
        "Notice that $E[Y]=\\mu$ Further, we notice that $E[\\mu^2]=\\sum \\mu^2 p(y) = \\mu^2 \\sum p(y) = \\mu^2$. Therefore:\n",
        "\n",
        "$= E[Y^2]-2\\mu^2+\\mu^2 = E[Y^2]-\\mu^2$.\n",
        "\n",
        "Now, we can compute the previous example in Python using these new results.\n",
        "\n"
      ],
      "metadata": {
        "id": "oXHrYN99yR_3"
      }
    },
    {
      "cell_type": "code",
      "source": [
        "#Computing E[Y^2] first:\n",
        "sum(y**2 * p)"
      ],
      "metadata": {
        "colab": {
          "base_uri": "https://localhost:8080/"
        },
        "id": "biQF5FZYxX14",
        "outputId": "c42c1a71-565c-43e1-ffb2-5e6d85c75f28"
      },
      "execution_count": 8,
      "outputs": [
        {
          "output_type": "execute_result",
          "data": {
            "text/plain": [
              "np.float64(4.0)"
            ]
          },
          "metadata": {},
          "execution_count": 8
        }
      ]
    },
    {
      "cell_type": "code",
      "source": [
        "#Now, we compute \\mu^2:\n",
        "1.75*1.75"
      ],
      "metadata": {
        "colab": {
          "base_uri": "https://localhost:8080/"
        },
        "id": "9VCpe1VQ0-EJ",
        "outputId": "e5a2a051-35a7-4af5-ed4f-d8af8a6e82e9"
      },
      "execution_count": 9,
      "outputs": [
        {
          "output_type": "execute_result",
          "data": {
            "text/plain": [
              "3.0625"
            ]
          },
          "metadata": {},
          "execution_count": 9
        }
      ]
    },
    {
      "cell_type": "code",
      "source": [
        "#Finally the Variance:\n",
        "4-3.0625"
      ],
      "metadata": {
        "colab": {
          "base_uri": "https://localhost:8080/"
        },
        "id": "V6VtRI0M1HO_",
        "outputId": "d36a4503-3618-43e9-995d-04c87cc347ed"
      },
      "execution_count": 10,
      "outputs": [
        {
          "output_type": "execute_result",
          "data": {
            "text/plain": [
              "0.9375"
            ]
          },
          "metadata": {},
          "execution_count": 10
        }
      ]
    },
    {
      "cell_type": "markdown",
      "source": [
        "Let's get some experience creating functions for this type of computation, though we may already have one in place."
      ],
      "metadata": {
        "id": "Vod7KYfL2EaX"
      }
    },
    {
      "cell_type": "code",
      "source": [
        "def measures_ensemble(y_vals,p_vals, verbose=True):\n",
        "  y=np.array(y_vals)\n",
        "  p=np.array(p_vals)\n",
        "\n",
        "  if not np.isclose(np.sum(p), 1.0):\n",
        "    raise ValueError(\"Probabilities must sum to 1.\")\n",
        "\n",
        "  expected=sum(y*p)\n",
        "\n",
        "  expected_squared=np.sum((y**2)*p)\n",
        "  variance = expected_squared - expected**2\n",
        "  stndev=np.sqrt(variance)\n",
        "\n",
        "  if verbose:\n",
        "    print(f\"Outcomes: {y_vals}\")\n",
        "    print(f\"Probabilities: {p_vals}\")\n",
        "    print(f\"Expected value E[Y]: {expected:.4f}\")\n",
        "    print(f\"Variance Var[Y]: {variance:.4f}\")\n",
        "    print(f\"Standard deviation SD[Y]: {stndev:.4f}\")\n",
        "  else:\n",
        "    return{\n",
        "        'E[Y]': expected,\n",
        "        'Var[Y]': variance,\n",
        "        'SD[Y]': stndev\n",
        "    }"
      ],
      "metadata": {
        "id": "msCBH7Eb1O9Q"
      },
      "execution_count": 17,
      "outputs": []
    },
    {
      "cell_type": "code",
      "source": [
        "y_vals=[1,3,5,7]\n",
        "p_vals=[.1, .3, .5, .1]\n",
        "measures_ensemble(y_vals, p_vals)"
      ],
      "metadata": {
        "colab": {
          "base_uri": "https://localhost:8080/"
        },
        "id": "6JaO8DeA4W5R",
        "outputId": "87da58f9-5354-441d-a4a9-93766324dd90"
      },
      "execution_count": 18,
      "outputs": [
        {
          "output_type": "stream",
          "name": "stdout",
          "text": [
            "Outcomes: [1, 3, 5, 7]\n",
            "Probabilities: [0.1, 0.3, 0.5, 0.1]\n",
            "Expected value E[Y]: 4.2000\n",
            "Variance Var[Y]: 2.5600\n",
            "Standard deviation SD[Y]: 1.6000\n"
          ]
        }
      ]
    },
    {
      "cell_type": "code",
      "source": [],
      "metadata": {
        "id": "gvNCbPyE5J4o"
      },
      "execution_count": null,
      "outputs": []
    }
  ]
}